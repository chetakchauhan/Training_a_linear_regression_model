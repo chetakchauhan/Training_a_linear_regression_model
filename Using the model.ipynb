{
 "cells": [
  {
   "cell_type": "code",
   "execution_count": 19,
   "metadata": {},
   "outputs": [],
   "source": [
    "# loading the libraries & the model\n",
    "from sklearn.externals import joblib\n",
    "\n",
    "# Load our trained model\n",
    "model = joblib.load('house_value_model.pkl')"
   ]
  },
  {
   "cell_type": "code",
   "execution_count": 20,
   "metadata": {},
   "outputs": [],
   "source": [
    "# Define the house that we want to value (with the values in the same order as in the training data)\n",
    "house_1 = [\n",
    "    2000,  # Size in Square Feet\n",
    "    3,  # Number of Bedrooms\n",
    "    2,  # Number of Bathrooms\n",
    "]\n",
    "\n",
    "# scikit-learn assumes you want to predict the values for multiple of houses at once, so it expects an array.\n",
    "# We only want to estimate the value of a single house, so there will only be one item in our array.\n",
    "homes = [\n",
    "    house_1\n",
    "]"
   ]
  },
  {
   "cell_type": "code",
   "execution_count": 21,
   "metadata": {},
   "outputs": [
    {
     "name": "stdout",
     "output_type": "stream",
     "text": [
      "House details:\n",
      "- 2000 sq feet\n",
      "- 3 bedrooms\n",
      "- 2 bathrooms\n",
      "Estimated value: $383,758.00\n"
     ]
    }
   ],
   "source": [
    "# Make a prediction for each house in the homes array (we only have one)\n",
    "home_values = model.predict(homes)\n",
    "\n",
    "# Since we are only predicting the price of one house, grab the first prediction returned\n",
    "predicted_value = home_values[0]\n",
    "\n",
    "# Print the results\n",
    "print(\"House details:\")\n",
    "print(f\"- {house_1[0]} sq feet\")\n",
    "print(f\"- {house_1[1]} bedrooms\")\n",
    "print(f\"- {house_1[2]} bathrooms\")\n",
    "print(f\"Estimated value: ${predicted_value:,.2f}\")"
   ]
  }
 ],
 "metadata": {
  "kernelspec": {
   "display_name": "Python 3",
   "language": "python",
   "name": "python3"
  },
  "language_info": {
   "codemirror_mode": {
    "name": "ipython",
    "version": 3
   },
   "file_extension": ".py",
   "mimetype": "text/x-python",
   "name": "python",
   "nbconvert_exporter": "python",
   "pygments_lexer": "ipython3",
   "version": "3.6.6"
  }
 },
 "nbformat": 4,
 "nbformat_minor": 2
}
